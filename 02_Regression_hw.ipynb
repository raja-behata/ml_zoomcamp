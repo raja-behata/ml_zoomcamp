{
 "cells": [
  {
   "cell_type": "code",
   "execution_count": 1,
   "id": "56aa42c9-6f1f-4371-abba-1b00b4ba6cb1",
   "metadata": {},
   "outputs": [],
   "source": [
    "import numpy as np\n",
    "import pandas as pd\n",
    "import matplotlib.pyplot as plt\n",
    "import seaborn as sns"
   ]
  },
  {
   "cell_type": "code",
   "execution_count": 3,
   "id": "fa6d10f4-df48-4fa3-89c6-4273133331c4",
   "metadata": {},
   "outputs": [
    {
     "data": {
      "text/html": [
       "<div>\n",
       "<style scoped>\n",
       "    .dataframe tbody tr th:only-of-type {\n",
       "        vertical-align: middle;\n",
       "    }\n",
       "\n",
       "    .dataframe tbody tr th {\n",
       "        vertical-align: top;\n",
       "    }\n",
       "\n",
       "    .dataframe thead th {\n",
       "        text-align: right;\n",
       "    }\n",
       "</style>\n",
       "<table border=\"1\" class=\"dataframe\">\n",
       "  <thead>\n",
       "    <tr style=\"text-align: right;\">\n",
       "      <th></th>\n",
       "      <th>engine_displacement</th>\n",
       "      <th>num_cylinders</th>\n",
       "      <th>horsepower</th>\n",
       "      <th>vehicle_weight</th>\n",
       "      <th>acceleration</th>\n",
       "      <th>model_year</th>\n",
       "      <th>origin</th>\n",
       "      <th>fuel_type</th>\n",
       "      <th>drivetrain</th>\n",
       "      <th>num_doors</th>\n",
       "      <th>fuel_efficiency_mpg</th>\n",
       "    </tr>\n",
       "  </thead>\n",
       "  <tbody>\n",
       "    <tr>\n",
       "      <th>483</th>\n",
       "      <td>220</td>\n",
       "      <td>3.0</td>\n",
       "      <td>144.0</td>\n",
       "      <td>2535.887591</td>\n",
       "      <td>18.7</td>\n",
       "      <td>2009</td>\n",
       "      <td>USA</td>\n",
       "      <td>Gasoline</td>\n",
       "      <td>All-wheel drive</td>\n",
       "      <td>2.0</td>\n",
       "      <td>16.642943</td>\n",
       "    </tr>\n",
       "    <tr>\n",
       "      <th>7506</th>\n",
       "      <td>160</td>\n",
       "      <td>2.0</td>\n",
       "      <td>141.0</td>\n",
       "      <td>2741.170484</td>\n",
       "      <td>14.3</td>\n",
       "      <td>2019</td>\n",
       "      <td>Asia</td>\n",
       "      <td>Diesel</td>\n",
       "      <td>Front-wheel drive</td>\n",
       "      <td>2.0</td>\n",
       "      <td>16.298377</td>\n",
       "    </tr>\n",
       "    <tr>\n",
       "      <th>8795</th>\n",
       "      <td>230</td>\n",
       "      <td>3.0</td>\n",
       "      <td>155.0</td>\n",
       "      <td>2471.880237</td>\n",
       "      <td>NaN</td>\n",
       "      <td>2017</td>\n",
       "      <td>Asia</td>\n",
       "      <td>Diesel</td>\n",
       "      <td>Front-wheel drive</td>\n",
       "      <td>2.0</td>\n",
       "      <td>18.591822</td>\n",
       "    </tr>\n",
       "  </tbody>\n",
       "</table>\n",
       "</div>"
      ],
      "text/plain": [
       "      engine_displacement  num_cylinders  horsepower  vehicle_weight  \\\n",
       "483                   220            3.0       144.0     2535.887591   \n",
       "7506                  160            2.0       141.0     2741.170484   \n",
       "8795                  230            3.0       155.0     2471.880237   \n",
       "\n",
       "      acceleration  model_year origin fuel_type         drivetrain  num_doors  \\\n",
       "483           18.7        2009    USA  Gasoline    All-wheel drive        2.0   \n",
       "7506          14.3        2019   Asia    Diesel  Front-wheel drive        2.0   \n",
       "8795           NaN        2017   Asia    Diesel  Front-wheel drive        2.0   \n",
       "\n",
       "      fuel_efficiency_mpg  \n",
       "483             16.642943  \n",
       "7506            16.298377  \n",
       "8795            18.591822  "
      ]
     },
     "execution_count": 3,
     "metadata": {},
     "output_type": "execute_result"
    }
   ],
   "source": [
    "df = pd.read_csv('car_fuel_efficiency.csv')\n",
    "df.sample(3, random_state=42)"
   ]
  },
  {
   "cell_type": "code",
   "execution_count": 5,
   "id": "2b80ff56-2276-4669-8ccb-55bd2fc86e0c",
   "metadata": {},
   "outputs": [],
   "source": [
    "df = df[['engine_displacement','horsepower','vehicle_weight','model_year','fuel_efficiency_mpg']]"
   ]
  },
  {
   "cell_type": "markdown",
   "id": "d9371ee5-8926-42d9-a62d-22c974ef5d8a",
   "metadata": {},
   "source": [
    "# Question 1\n",
    "## There's one column with missing values. What is it?\n",
    "\n",
    " - 'engine_displacement'\n",
    " - 'horsepower'\n",
    " - 'vehicle_weight'\n",
    " - 'model_year"
   ]
  },
  {
   "cell_type": "code",
   "execution_count": 6,
   "id": "da231c56-2755-4aa9-924b-124c90f79078",
   "metadata": {},
   "outputs": [
    {
     "data": {
      "text/plain": [
       "engine_displacement      0\n",
       "horsepower             708\n",
       "vehicle_weight           0\n",
       "model_year               0\n",
       "fuel_efficiency_mpg      0\n",
       "dtype: int64"
      ]
     },
     "execution_count": 6,
     "metadata": {},
     "output_type": "execute_result"
    }
   ],
   "source": [
    "df.isnull().sum()"
   ]
  },
  {
   "cell_type": "markdown",
   "id": "85b3767a-ff8d-46da-9669-d28ca4473468",
   "metadata": {},
   "source": [
    "# Question 2\n",
    "- What's the median (50% percentile) for variable 'horsepower'?"
   ]
  },
  {
   "cell_type": "code",
   "execution_count": 7,
   "id": "ed8596e2-b68e-4789-888c-7b6013927d3a",
   "metadata": {},
   "outputs": [
    {
     "data": {
      "text/plain": [
       "149.0"
      ]
     },
     "execution_count": 7,
     "metadata": {},
     "output_type": "execute_result"
    }
   ],
   "source": [
    "df[\"horsepower\"].median()"
   ]
  },
  {
   "cell_type": "markdown",
   "id": "0aee4c6c-d6b2-49f6-9b1f-0bafb6dc184a",
   "metadata": {},
   "source": [
    "# Prepare and split the dataset\n",
    "- Shuffle the dataset (the filtered one you created above), use seed 42.\n",
    "- Split your data in train/val/test sets, with 60%/20%/20% distribution."
   ]
  },
  {
   "cell_type": "code",
   "execution_count": 8,
   "id": "4b381b87-910f-40cb-b256-f6710ec03c45",
   "metadata": {},
   "outputs": [
    {
     "data": {
      "text/plain": [
       "True"
      ]
     },
     "execution_count": 8,
     "metadata": {},
     "output_type": "execute_result"
    }
   ],
   "source": [
    "# size of train/val/test sets\n",
    "n = len(df)\n",
    "n_val = int(n * 0.2)\n",
    "n_test = int(n * 0.2)\n",
    "n_train = n - n_val - n_test\n",
    "\n",
    "n == (n_train + n_test + n_val)"
   ]
  },
  {
   "cell_type": "code",
   "execution_count": 9,
   "id": "806347cb-0b98-4ff8-8493-9dc017144c2a",
   "metadata": {},
   "outputs": [],
   "source": [
    "# shuffle the dataset and create the sets\n",
    "idx = np.arange(n)\n",
    "\n",
    "np.random.seed(42)\n",
    "np.random.shuffle(idx)\n",
    "\n",
    "df_train = df.iloc[idx[:n_train]].copy()\n",
    "df_val = df.iloc[idx[n_train : n_train + n_val]].copy()\n",
    "df_test = df.iloc[idx[n_train + n_val :]].copy()"
   ]
  },
  {
   "cell_type": "code",
   "execution_count": 10,
   "id": "0bbc021b-5246-43db-a0d3-4ba787d8581e",
   "metadata": {},
   "outputs": [
    {
     "data": {
      "text/html": [
       "<div>\n",
       "<style scoped>\n",
       "    .dataframe tbody tr th:only-of-type {\n",
       "        vertical-align: middle;\n",
       "    }\n",
       "\n",
       "    .dataframe tbody tr th {\n",
       "        vertical-align: top;\n",
       "    }\n",
       "\n",
       "    .dataframe thead th {\n",
       "        text-align: right;\n",
       "    }\n",
       "</style>\n",
       "<table border=\"1\" class=\"dataframe\">\n",
       "  <thead>\n",
       "    <tr style=\"text-align: right;\">\n",
       "      <th></th>\n",
       "      <th>engine_displacement</th>\n",
       "      <th>horsepower</th>\n",
       "      <th>vehicle_weight</th>\n",
       "      <th>model_year</th>\n",
       "      <th>fuel_efficiency_mpg</th>\n",
       "    </tr>\n",
       "  </thead>\n",
       "  <tbody>\n",
       "    <tr>\n",
       "      <th>483</th>\n",
       "      <td>220</td>\n",
       "      <td>144.0</td>\n",
       "      <td>2535.887591</td>\n",
       "      <td>2009</td>\n",
       "      <td>16.642943</td>\n",
       "    </tr>\n",
       "    <tr>\n",
       "      <th>7506</th>\n",
       "      <td>160</td>\n",
       "      <td>141.0</td>\n",
       "      <td>2741.170484</td>\n",
       "      <td>2019</td>\n",
       "      <td>16.298377</td>\n",
       "    </tr>\n",
       "    <tr>\n",
       "      <th>8795</th>\n",
       "      <td>230</td>\n",
       "      <td>155.0</td>\n",
       "      <td>2471.880237</td>\n",
       "      <td>2017</td>\n",
       "      <td>18.591822</td>\n",
       "    </tr>\n",
       "  </tbody>\n",
       "</table>\n",
       "</div>"
      ],
      "text/plain": [
       "      engine_displacement  horsepower  vehicle_weight  model_year  \\\n",
       "483                   220       144.0     2535.887591        2009   \n",
       "7506                  160       141.0     2741.170484        2019   \n",
       "8795                  230       155.0     2471.880237        2017   \n",
       "\n",
       "      fuel_efficiency_mpg  \n",
       "483             16.642943  \n",
       "7506            16.298377  \n",
       "8795            18.591822  "
      ]
     },
     "execution_count": 10,
     "metadata": {},
     "output_type": "execute_result"
    }
   ],
   "source": [
    "df_train.head(3)"
   ]
  },
  {
   "cell_type": "markdown",
   "id": "8ec6258a-c5d7-4893-92ae-32a020688328",
   "metadata": {},
   "source": [
    "# Question 3\n",
    "- We need to deal with missing values for the column from Q1.\n",
    "- We have two options: fill it with 0 or with the mean of this variable.\n",
    "- Try both options. For each, train a linear regression model without regularization using the code from the lessons.\n",
    "- For computing the mean, use the training only!\n",
    "- Use the validation dataset to evaluate the models and compare the RMSE of each option.\n",
    "- Round the RMSE scores to 2 decimal digits using round(score, 2)\n",
    " - Which option gives better RMSE?"
   ]
  },
  {
   "cell_type": "code",
   "execution_count": 11,
   "id": "6e6fcbc0-ac3d-448d-88c8-eac60d994223",
   "metadata": {},
   "outputs": [],
   "source": [
    "target = \"fuel_efficiency_mpg\"\n",
    "features = df.columns[df.columns != target].tolist()\n",
    "\n",
    "\n",
    "def train_linear_regression(X, y):\n",
    "    \"\"\"\n",
    "    Trains a linear regression model using the normal equation.\n",
    "    \"\"\"\n",
    "    # Add a bias term (column of ones) to the feature matrix\n",
    "    ones = np.ones(X.shape[0])\n",
    "    X = np.column_stack([ones, X])\n",
    "\n",
    "    # Normal equation: w = (X^T * X)^-1 * X^T * y\n",
    "    XTX = X.T.dot(X)\n",
    "    XTX_inv = np.linalg.inv(XTX)\n",
    "    w = XTX_inv.dot(X.T).dot(y)\n",
    "\n",
    "    return w[0], w[1:]\n",
    "\n",
    "\n",
    "def rmse(y_true, y_pred):\n",
    "    \"\"\"\n",
    "    Calculates the Root Mean Squared Error.\n",
    "    \"\"\"\n",
    "    error = y_true - y_pred\n",
    "    mse = (error**2).mean()\n",
    "    return np.sqrt(mse)"
   ]
  },
  {
   "cell_type": "code",
   "execution_count": 12,
   "id": "224f2faf-714d-4231-baf8-c3ce336c8bad",
   "metadata": {},
   "outputs": [],
   "source": [
    "# Filling missing horsepower with 0\n",
    "X_train_zero = df_train[features].fillna(0).to_numpy()\n",
    "y_train = df_train[target].to_numpy()\n",
    "\n",
    "X_val_zero = df_val[features].fillna(0).to_numpy()\n",
    "y_val = df_val[target].to_numpy()\n",
    "\n",
    "# Train the model\n",
    "w0_zero, w_zero = train_linear_regression(X_train_zero, y_train)\n",
    "\n",
    "# Get predictions on the validation set\n",
    "y_pred_zero = w0_zero + X_val_zero.dot(w_zero)\n",
    "\n",
    "# Calculate and round the RMSE\n",
    "rmse_zero = round(rmse(y_val, y_pred_zero), 2)"
   ]
  },
  {
   "cell_type": "code",
   "execution_count": 13,
   "id": "154a067e-dfa8-4359-902e-19d2aa05ae6e",
   "metadata": {},
   "outputs": [],
   "source": [
    "# Mean of horsepower from training data\n",
    "horsepower_mean = df_train[\"horsepower\"].mean()\n",
    "\n",
    "# Filling missing values with the calculated mean\n",
    "X_train_mean = df_train[features].fillna(horsepower_mean).to_numpy()\n",
    "X_val_mean = df_val[features].fillna(horsepower_mean).to_numpy()\n",
    "\n",
    "# Notice that y_train and y_val are the same as before\n",
    "\n",
    "# Train the model\n",
    "w0_mean, w_mean = train_linear_regression(X_train_mean, y_train)\n",
    "\n",
    "# Get predictions on the validation set\n",
    "y_pred_mean = w0_mean + X_val_mean.dot(w_mean)\n",
    "\n",
    "# Calculate and round the RMSE\n",
    "rmse_mean = round(rmse(y_val, y_pred_mean), 2)"
   ]
  },
  {
   "cell_type": "code",
   "execution_count": 14,
   "id": "8981cb6e-b3c3-470f-ad71-54d4799f2475",
   "metadata": {},
   "outputs": [
    {
     "data": {
      "image/png": "[encoded data removed]",
      "text/plain": [
       "<Figure size 1000x600 with 1 Axes>"
      ]
     },
     "metadata": {},
     "output_type": "display_data"
    }
   ],
   "source": [
    "plt.figure(figsize=(10, 6))\n",
    "sns.histplot(y_pred_zero, color=\"red\", alpha=0.3, bins=50)\n",
    "sns.histplot(y_pred_mean, color=\"green\", alpha=0.3, bins=50)\n",
    "sns.histplot(y_val, color=\"blue\", alpha=0.3, bins=50)\n",
    "plt.title(\"Predictions vs Actuals\")\n",
    "plt.xlabel(\"Fuel Efficiency MPG\")\n",
    "plt.legend(\n",
    "    [\n",
    "        \"Predictions (Fill NA with Zero)\",\n",
    "        \"Predictions (Fill Na with Mean)\",\n",
    "        \"Actual Values\",\n",
    "    ]\n",
    ")\n",
    "plt.show()"
   ]
  },
  {
   "cell_type": "code",
   "execution_count": 15,
   "id": "0b060956-3cfe-44ef-9919-bff13ebdcfce",
   "metadata": {},
   "outputs": [
    {
     "name": "stdout",
     "output_type": "stream",
     "text": [
      "RMSE when filling missing values in horsepower with zero: 0.52\n",
      "RMSE when filling missing values in horsepower with mean: 0.46\n"
     ]
    }
   ],
   "source": [
    "print(f\"RMSE when filling missing values in horsepower with zero: {rmse_zero}\")\n",
    "print(f\"RMSE when filling missing values in horsepower with mean: {rmse_mean}\")"
   ]
  },
  {
   "cell_type": "markdown",
   "id": "04f08dcf-cbed-4bf5-a0c9-0147ae6c86da",
   "metadata": {},
   "source": [
    "# Question 4\n",
    "- Now let's train a regularized linear regression.\n",
    "- For this question, fill the NAs with 0.\n",
    "- Try different values of r from this list: [0, 0.01, 0.1, 1, 5, 10, 100].\n",
    "- Use RMSE to evaluate the model on the validation dataset.\n",
    "- Round the RMSE scores to 2 decimal digits.\n",
    " -Which r gives the best RMSE?"
   ]
  },
  {
   "cell_type": "code",
   "execution_count": 16,
   "id": "02178331-9172-4116-9c31-42ea4863e653",
   "metadata": {},
   "outputs": [],
   "source": [
    "def train_linear_regression_reg(X, y, r=0.0):\n",
    "    \"\"\"\n",
    "    Trains a regularized linear regression model using the normal equation.\n",
    "    \"\"\"\n",
    "    # Add a bias term (column of ones)\n",
    "    ones = np.ones(X.shape[0])\n",
    "    X = np.column_stack([ones, X])\n",
    "\n",
    "    # Normal equation with regularization: w = (X^T*X + r*I)^-1 * X^T*y\n",
    "    XTX = X.T.dot(X)\n",
    "\n",
    "    # Create the identity matrix for regularization\n",
    "    reg = r * np.eye(XTX.shape[0])\n",
    "\n",
    "    # Set the first element to 0 to not regularize the bias term\n",
    "    # reg[0, 0] = 0\n",
    "\n",
    "    XTX = XTX + reg\n",
    "\n",
    "    XTX_inv = np.linalg.inv(XTX)\n",
    "    w = XTX_inv.dot(X.T).dot(y)\n",
    "\n",
    "    return w[0], w[1:]"
   ]
  },
  {
   "cell_type": "code",
   "execution_count": 17,
   "id": "7eb2a5d4-4e02-47c2-b3af-482729aa1896",
   "metadata": {},
   "outputs": [
    {
     "name": "stdout",
     "output_type": "stream",
     "text": [
      "r = 0    | RMSE = 0.52\n",
      "r = 0.01 | RMSE = 0.52\n",
      "r = 0.1  | RMSE = 0.52\n",
      "r = 1    | RMSE = 0.52\n",
      "r = 5    | RMSE = 0.52\n",
      "r = 10   | RMSE = 0.52\n",
      "r = 100  | RMSE = 0.52\n"
     ]
    }
   ],
   "source": [
    "r_values = [0, 0.01, 0.1, 1, 5, 10, 100]\n",
    "rmse_scores = {}\n",
    "\n",
    "for r in r_values:\n",
    "    # Train the regularized model\n",
    "    w0, w = train_linear_regression_reg(X_train_zero, y_train, r=r)\n",
    "\n",
    "    # Make predictions on the validation set\n",
    "    y_pred = w0 + X_val_zero.dot(w)\n",
    "\n",
    "    # Calculate and round the RMSE\n",
    "    score = round(rmse(y_val, y_pred), 2)\n",
    "\n",
    "    # Store the result\n",
    "    rmse_scores[r] = score\n",
    "\n",
    "    print(f\"r = {r:<4} | RMSE = {score}\")"
   ]
  },
  {
   "cell_type": "code",
   "execution_count": 18,
   "id": "aa0f04c6-b128-453a-b3af-8dc51f63f4a3",
   "metadata": {},
   "outputs": [
    {
     "name": "stdout",
     "output_type": "stream",
     "text": [
      "The best RMSE is 0.52, which is achieved with r = 0.\n"
     ]
    }
   ],
   "source": [
    "\n",
    "best_r = min(rmse_scores, key=rmse_scores.get)\n",
    "best_rmse = rmse_scores[best_r]\n",
    "\n",
    "print(f\"The best RMSE is {best_rmse}, which is achieved with r = {best_r}.\")"
   ]
  },
  {
   "cell_type": "markdown",
   "id": "559414e3-7080-44c3-8418-255bd9ff574b",
   "metadata": {},
   "source": [
    "# Question 5\n",
    "We used seed 42 for splitting the data. Let's find out how selecting the seed influences our score.\n",
    "Try different seed values: [0, 1, 2, 3, 4, 5, 6, 7, 8, 9].\n",
    "For each seed, do the train/validation/test split with 60%/20%/20% distribution.\n",
    "Fill the missing values with 0 and train a model without regularization.\n",
    "For each seed, evaluate the model on the validation dataset and collect the RMSE scores.\n",
    "What's the standard deviation of all the scores? To compute the standard deviation, use np.std.\n",
    "Round the result to 3 decimal digits (round(std, 3))"
   ]
  },
  {
   "cell_type": "code",
   "execution_count": 19,
   "id": "ae1a922d-539f-448c-9776-9d38ab23dae9",
   "metadata": {},
   "outputs": [
    {
     "name": "stdout",
     "output_type": "stream",
     "text": [
      "Seed: 0 -> RMSE: 0.521\n",
      "Seed: 1 -> RMSE: 0.521\n",
      "Seed: 2 -> RMSE: 0.523\n",
      "Seed: 3 -> RMSE: 0.516\n",
      "Seed: 4 -> RMSE: 0.511\n",
      "Seed: 5 -> RMSE: 0.528\n",
      "Seed: 6 -> RMSE: 0.531\n",
      "Seed: 7 -> RMSE: 0.509\n",
      "Seed: 8 -> RMSE: 0.515\n",
      "Seed: 9 -> RMSE: 0.513\n"
     ]
    }
   ],
   "source": [
    "seeds = [0, 1, 2, 3, 4, 5, 6, 7, 8, 9]\n",
    "rmse_scores = []\n",
    "\n",
    "for seed in seeds:\n",
    "    # Set the seed for this iteration's data split\n",
    "    np.random.seed(seed)\n",
    "\n",
    "    # Shuffle the dataset indices\n",
    "    n = len(df)\n",
    "    n_val = int(n * 0.2)\n",
    "    n_test = int(n * 0.2)\n",
    "    n_train = n - n_val - n_test\n",
    "\n",
    "    idx = np.arange(n)\n",
    "    np.random.shuffle(idx)\n",
    "\n",
    "    # Create the data splits\n",
    "    df_train = df.iloc[idx[:n_train]].copy()\n",
    "    df_val = df.iloc[idx[n_train : n_train + n_val]].copy()\n",
    "    df_test = df.iloc[idx[n_train + n_val :]].copy()\n",
    "\n",
    "    # Prepare data (fill missing values with 0)\n",
    "    X_train = df_train[features].fillna(0).to_numpy()\n",
    "    y_train = df_train[target].to_numpy()\n",
    "\n",
    "    X_val = df_val[features].fillna(0).to_numpy()\n",
    "    y_val = df_val[target].to_numpy()\n",
    "\n",
    "    # Train the model (without regularization)\n",
    "    w0, w = train_linear_regression(X_train, y_train)\n",
    "    y_pred = w0 + X_val.dot(w)\n",
    "\n",
    "    # Calculate and store the score\n",
    "    score = rmse(y_val, y_pred)\n",
    "    rmse_scores.append(score)\n",
    "\n",
    "    print(f\"Seed: {seed} -> RMSE: {round(score, 3)}\")\n"
   ]
  },
  {
   "cell_type": "code",
   "execution_count": 20,
   "id": "68cb697a-a234-4015-8249-62306ddd88c0",
   "metadata": {},
   "outputs": [
    {
     "name": "stdout",
     "output_type": "stream",
     "text": [
      "The standard deviation of the RMSE scores is: 0.00699\n"
     ]
    }
   ],
   "source": [
    "# Standard deviation of the scores\n",
    "std_dev = round(np.std(rmse_scores), 5)\n",
    "print(f\"The standard deviation of the RMSE scores is: {std_dev}\")"
   ]
  },
  {
   "cell_type": "markdown",
   "id": "dabccf23-58ed-415f-a999-389ea207d988",
   "metadata": {},
   "source": [
    "# Question 6\n",
    "Split the dataset like previously, use seed 9.\n",
    "Combine train and validation datasets.\n",
    "Fill the missing values with 0 and train a model with r=0.001.\n",
    "What's the RMSE on the test dataset?"
   ]
  },
  {
   "cell_type": "code",
   "execution_count": 22,
   "id": "cf3f28b4-d9c8-4af5-8384-5bf70dc3470d",
   "metadata": {},
   "outputs": [],
   "source": [
    "# Set the seed\n",
    "np.random.seed(seed)\n",
    "\n",
    "# Split the data with 60%/20%/20% distribution\n",
    "n = len(df)\n",
    "n_val = int(n * 0.2)\n",
    "n_test = int(n * 0.2)\n",
    "n_train = n - n_val - n_test\n",
    "\n",
    "idx = np.arange(n)\n",
    "np.random.shuffle(idx)\n",
    "\n",
    "# Create the data splits\n",
    "df_train = df.iloc[idx[:n_train]].copy()\n",
    "df_val = df.iloc[idx[n_train : n_train + n_val]].copy()\n",
    "df_test = df.iloc[idx[n_train + n_val :]].copy()\n",
    "\n",
    "# Combine train and validation datasets\n",
    "df_train_val = pd.concat([df_train, df_val]).reset_index(drop=True)"
   ]
  },
  {
   "cell_type": "code",
   "execution_count": 23,
   "id": "bff1aeb9-5be4-426c-bed4-081271266110",
   "metadata": {},
   "outputs": [
    {
     "name": "stdout",
     "output_type": "stream",
     "text": [
      "The RMSE on the test dataset is: 0.5156\n"
     ]
    }
   ],
   "source": [
    "# Prepare data (fill missing values with 0)\n",
    "X_train_val = df_train_val[features].fillna(0).to_numpy()\n",
    "y_train_val = df_train_val[target].to_numpy()\n",
    "\n",
    "X_test = df_test[features].fillna(0).to_numpy()\n",
    "y_test = df_test[target].to_numpy()\n",
    "\n",
    "# Train the model with r=0.001\n",
    "w0, w = train_linear_regression_reg(X_train_val, y_train_val, r=0.001)\n",
    "\n",
    "# Make predictions on the test set\n",
    "y_pred_test = w0 + X_test.dot(w)\n",
    "\n",
    "# Calculate RMSE on the test set\n",
    "rmse_test = round(rmse(y_test, y_pred_test), 4)\n",
    "\n",
    "print(f\"The RMSE on the test dataset is: {rmse_test}\")"
   ]
  },
  {
   "cell_type": "code",
   "execution_count": null,
   "id": "c2f4af63-3da2-4dfb-ae06-36eb03f28139",
   "metadata": {},
   "outputs": [],
   "source": []
  }
 ],
 "metadata": {
  "kernelspec": {
   "display_name": "Python 3 (ipykernel)",
   "language": "python",
   "name": "python3"
  },
  "language_info": {
   "codemirror_mode": {
    "name": "ipython",
    "version": 3
   },
   "file_extension": ".py",
   "mimetype": "text/x-python",
   "name": "python",
   "nbconvert_exporter": "python",
   "pygments_lexer": "ipython3",
   "version": "3.11.11"
  }
 },
 "nbformat": 4,
 "nbformat_minor": 5
}
